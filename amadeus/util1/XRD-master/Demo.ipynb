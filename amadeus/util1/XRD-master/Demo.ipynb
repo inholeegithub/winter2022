{
 "cells": [
  {
   "cell_type": "code",
   "execution_count": 1,
   "metadata": {},
   "outputs": [],
   "source": [
    "#import XRD libaries, \n",
    "#This libarary contains three classes\n",
    "#1, Element, information for element, such as symbol and atomic scattering factor\n",
    "#2, crystal, contains the information of all varaibles to build the crystal\n",
    "#3, XRD, perform XRD calculations\n",
    "\n",
    "from XRD import Element, crystal, XRD\n"
   ]
  },
  {
   "cell_type": "code",
   "execution_count": 2,
   "metadata": {
    "collapsed": true
   },
   "outputs": [],
   "source": [
    "# There are a couples of ways to build the crystal \n",
    "# 1, build it from dictly by specifying the lattice, composition and atomic coordinates\n",
    "# 2, load the data from POSCAR (a file format widely used in first principle calculations)\n",
    "# 3, load the data from CIF file (widely used by crystallographors)\n",
    "\n",
    "import numpy as np\n",
    "\n",
    "lattice = 5.692*np.eye(3)\n",
    "atomtype = ['Na', 'Cl']\n",
    "composition = [4,4]\n",
    "coordinate = [[0,0,0],\n",
    "              [0.5,0.5,0],\n",
    "              [0,0.5,0.5],\n",
    "              [0.5,0,0.5],\n",
    "              [0.5,0.5,0.5],\n",
    "              [0.5,0,0],\n",
    "              [0,0,0.5],\n",
    "              [0,0.5,0]]\n",
    "test = crystal(fileformat='dict', filename=None, \\\n",
    "               lattice = lattice,\n",
    "               atom_type = atomtype, \n",
    "               composition = composition, \n",
    "               coordinate = coordinate)"
   ]
  },
  {
   "cell_type": "code",
   "execution_count": 3,
   "metadata": {},
   "outputs": [
    {
     "name": "stdout",
     "output_type": "stream",
     "text": [
      "[[ 5.859142  0.        0.      ]\n",
      " [ 0.        5.859142  0.      ]\n",
      " [ 0.        0.        5.859142]]\n"
     ]
    }
   ],
   "source": [
    "# Read it from POSCAR\n",
    "test = crystal('POSCAR',filename='POSCAR-SrF')\n",
    "print(test.cell_matrix)"
   ]
  },
  {
   "cell_type": "code",
   "execution_count": 4,
   "metadata": {
    "collapsed": true
   },
   "outputs": [],
   "source": [
    "# as long the crystal is given, we can use it to perform XRD calculation\n",
    "# XRD is a class to perform XRD calculation\n",
    "xrd = XRD(test)"
   ]
  },
  {
   "cell_type": "code",
   "execution_count": 5,
   "metadata": {},
   "outputs": [
    {
     "name": "stdout",
     "output_type": "stream",
     "text": [
      "  2theta     d_hkl     hkl       Intensity\n",
      " 104.269     0.977   [ 6  0  0]  5949.86\n"
     ]
    }
   ],
   "source": [
    "# one could check the diffraction information for a particular (hkl) plane\n",
    "xrd.by_hkl([6,0,0])"
   ]
  },
  {
   "cell_type": "code",
   "execution_count": 6,
   "metadata": {},
   "outputs": [
    {
     "name": "stdout",
     "output_type": "stream",
     "text": [
      "  2theta     d_hkl     hkl       Intensity\n",
      "  26.346     3.383   [-1  1  1]     0.94\n",
      "  30.514     2.930   [ 0  2  0]     0.22\n",
      "  43.697     2.072   [ 0  2  2]     0.60\n",
      "  51.747     1.767   [-3  1  1]     0.44\n",
      "  54.232     1.691   [-2 -2 -2]     0.07\n",
      "  63.512     1.465   [ 0  4  0]     0.10\n",
      "  69.993     1.344   [-3 -1 -3]     0.19\n",
      "  72.090     1.310   [-4  0 -2]     0.10\n",
      "  80.269     1.196   [-2 -4 -2]     0.21\n",
      "  86.265     1.128   [-3  3  3]     0.16\n",
      "  96.199     1.036   [ 4  0 -4]     0.08\n",
      " 102.231     0.990   [ 1 -3 -5]     0.20\n",
      " 104.269     0.977   [-4 -4 -2]     0.07\n",
      " 112.642     0.926   [ 2  0 -6]     0.16\n",
      " 119.265     0.894   [-3  5 -3]     0.11\n",
      " 121.565     0.883   [-6  2 -2]     0.06\n",
      " 131.450     0.846   [-4  4  4]     0.07\n",
      " 139.982     0.820   [-5 -1 -5]     0.24\n",
      " 143.174     0.813   [-6  0  4]     0.10\n",
      " 159.877     0.783   [-4  2  6]     1.00\n"
     ]
    },
    {
     "data": {
      "image/png": "[encoded data removed]",
      "text/plain": [
       "<matplotlib.figure.Figure at 0x1158867b8>"
      ]
     },
     "metadata": {},
     "output_type": "display_data"
    }
   ],
   "source": [
    "# or choose to plot powder diffraction patterns for a given wavelength and 2theta range\n",
    "xrd.plot_pxrd()"
   ]
  },
  {
   "cell_type": "code",
   "execution_count": 7,
   "metadata": {
    "collapsed": true
   },
   "outputs": [],
   "source": [
    "# Note that we could also change the wavelength, and theta angle.\n",
    "xrd1 = XRD(test, wavelength=0.5005, max2theta=40)"
   ]
  },
  {
   "cell_type": "code",
   "execution_count": 8,
   "metadata": {},
   "outputs": [
    {
     "name": "stdout",
     "output_type": "stream",
     "text": [
      "  2theta     d_hkl     hkl       Intensity\n",
      "   8.485     3.383   [-1  1 -1]     1.00\n",
      "   9.801     2.930   [ 2  0  0]     0.24\n",
      "  13.877     2.072   [ 2 -2  0]     0.71\n",
      "  16.287     1.767   [ 1  3 -1]     0.56\n",
      "  17.017     1.691   [-2 -2  2]     0.09\n",
      "  19.674     1.465   [ 0  4  0]     0.13\n",
      "  21.459     1.344   [ 1 -3 -3]     0.26\n",
      "  22.023     1.310   [ 4  2  0]     0.13\n",
      "  24.156     1.196   [ 2 -4 -2]     0.30\n",
      "  25.645     1.128   [ 3  3 -3]     0.05\n",
      "  25.645     1.128   [ 1 -1 -5]     0.08\n"
     ]
    },
    {
     "data": {
      "image/png": "[encoded data removed]",
      "text/plain": [
       "<matplotlib.figure.Figure at 0x118d3a710>"
      ]
     },
     "metadata": {},
     "output_type": "display_data"
    }
   ],
   "source": [
    "xrd1.plot_pxrd()"
   ]
  },
  {
   "cell_type": "code",
   "execution_count": 10,
   "metadata": {},
   "outputs": [
    {
     "name": "stdout",
     "output_type": "stream",
     "text": [
      "  2theta     d_hkl     hkl       Intensity\n",
      "  11.044     8.012   [ 0  0  1]     0.55\n",
      "  12.931     6.846   [ 0 -1 -1]     0.06\n",
      "  18.006     4.926   [ 0  1 -1]     1.00\n",
      "  22.191     4.006   [ 0  0  2]     0.06\n",
      "  25.115     3.546   [ 1  1 -1]     0.15\n",
      "  32.326     2.769   [-1 -2  1]     0.11\n",
      "  33.557     2.671   [ 0  0 -3]     0.05\n",
      "  33.943     2.641   [ 0  2  3]     0.13\n",
      "  34.010     2.636   [ 0  3  2]     0.11\n",
      "  37.858     2.376   [ 2 -1  0]     0.14\n",
      "  38.285     2.351   [ 2  2  2]     0.06\n",
      "  42.869     2.110   [ 2  3  1]     0.09\n",
      "  46.054     1.971   [ 2 -2  1]     0.15\n",
      "  54.343     1.688   [-2 -4  0]     0.07\n",
      "  59.969     1.543   [ 2 -3  2]     0.07\n",
      "  64.009     1.455   [-2 -5 -4]     0.05\n",
      " 171.587     0.773   [-2 -8 -10]     0.06\n",
      " 176.495     0.771   [ 4 -7  2]     0.06\n",
      " 176.692     0.771   [-2 -11 -3]     0.06\n",
      " 177.449     0.771   [ 2 10  8]     0.16\n",
      " 179.397     0.771   [-4 -8  2]     0.14\n"
     ]
    },
    {
     "data": {
      "image/png": "[encoded data removed]",
      "text/plain": [
       "<matplotlib.figure.Figure at 0x118c3ce48>"
      ]
     },
     "metadata": {},
     "output_type": "display_data"
    }
   ],
   "source": [
    "test = crystal('POSCAR',filename='POSCAR-Al2SiO5')\n",
    "xrd2 = XRD(test, max2theta=180)\n",
    "xrd2.plot_pxrd(minimum_I = 0.05, show_hkl=False)"
   ]
  },
  {
   "cell_type": "code",
   "execution_count": null,
   "metadata": {
    "collapsed": true
   },
   "outputs": [],
   "source": []
  }
 ],
 "metadata": {
  "kernelspec": {
   "display_name": "Python 3",
   "language": "python",
   "name": "python3"
  },
  "language_info": {
   "codemirror_mode": {
    "name": "ipython",
    "version": 3
   },
   "file_extension": ".py",
   "mimetype": "text/x-python",
   "name": "python",
   "nbconvert_exporter": "python",
   "pygments_lexer": "ipython3",
   "version": "3.6.1"
  }
 },
 "nbformat": 4,
 "nbformat_minor": 2
}
